{
 "cells": [
  {
   "cell_type": "code",
   "execution_count": 142,
   "metadata": {},
   "outputs": [],
   "source": [
    "from bs4 import BeautifulSoup as bs\n",
    "import pandas as pd\n",
    "import requests\n",
    "import os\n",
    "#import shutil\n",
    "import urllib.request"
   ]
  },
  {
   "cell_type": "markdown",
   "metadata": {},
   "source": [
    "# Create Hawaii Fish Table"
   ]
  },
  {
   "cell_type": "code",
   "execution_count": 7,
   "metadata": {},
   "outputs": [],
   "source": [
    "html = requests.get(\"https://www.fishbase.se/Country/CountryChecklist.php?showAll=yes&c_code=840B&vhabitat=all2&cpresence=present\")\n",
    "soup = bs(html.content, \"html.parser\")"
   ]
  },
  {
   "cell_type": "code",
   "execution_count": 115,
   "metadata": {},
   "outputs": [],
   "source": [
    "try:\n",
    "    fish_df = pd.read_csv(\"fish_df.csv\")\n",
    "except:\n",
    "    print(\"Fish Dataframe not Found. Regenerating...\")\n",
    "\n",
    "    fish_df = pd.read_html(str(table))[0]\n",
    "\n",
    "    # Add fish page Links\n",
    "    links = []\n",
    "    for anchor in table.findAll('a'):\n",
    "        links.append(\"https://www.fishbase.se/Country/\" + anchor[\"href\"])\n",
    "    fish_df[\"Link\"] = links\n",
    "\n",
    "    # Add fishbase ids\n",
    "    fishbase_ids = [link.split('=')[-1] for link in links]\n",
    "    fish_df.insert(0, \"fishbase_id\", fishbase_ids)\n",
    "\n",
    "    # Add image counts and image page url for each species\n",
    "    pic_links = [\"https://www.fishbase.se/photos/thumbnailssummary.php?ID=\" + fid for fid in fishbase_ids]  \n",
    "    fish_df[\"image_page_link\"] = pic_links\n",
    "    \n",
    "    image_counts = []\n",
    "    for link in pic_links:\n",
    "        page = requests.get(link)\n",
    "        p_soup = bs(page.content, \"html.parser\")\n",
    "        images = p_soup.findAll('img')\n",
    "        image_counts.append(len(images))\n",
    "    fish_df[\"image_counts\"] = image_counts    \n",
    "\n",
    "    fish_df.to_csv(\"fish_df.csv\", index = False)"
   ]
  },
  {
   "cell_type": "code",
   "execution_count": 116,
   "metadata": {},
   "outputs": [
    {
     "data": {
      "text/html": [
       "<div>\n",
       "<style scoped>\n",
       "    .dataframe tbody tr th:only-of-type {\n",
       "        vertical-align: middle;\n",
       "    }\n",
       "\n",
       "    .dataframe tbody tr th {\n",
       "        vertical-align: top;\n",
       "    }\n",
       "\n",
       "    .dataframe thead th {\n",
       "        text-align: right;\n",
       "    }\n",
       "</style>\n",
       "<table border=\"1\" class=\"dataframe\">\n",
       "  <thead>\n",
       "    <tr style=\"text-align: right;\">\n",
       "      <th></th>\n",
       "      <th>fishbase_id</th>\n",
       "      <th>Order</th>\n",
       "      <th>Family</th>\n",
       "      <th>Species</th>\n",
       "      <th>Occurrence</th>\n",
       "      <th>FishBase name</th>\n",
       "      <th>Name</th>\n",
       "      <th>Link</th>\n",
       "      <th>image_counts</th>\n",
       "      <th>image_page_link</th>\n",
       "    </tr>\n",
       "  </thead>\n",
       "  <tbody>\n",
       "    <tr>\n",
       "      <th>0</th>\n",
       "      <td>972</td>\n",
       "      <td>Beloniformes</td>\n",
       "      <td>Belonidae</td>\n",
       "      <td>Ablennes hians</td>\n",
       "      <td>native</td>\n",
       "      <td>Flat needlefish</td>\n",
       "      <td>'Aha'aha</td>\n",
       "      <td>https://www.fishbase.se/Country/CountrySpecies...</td>\n",
       "      <td>30</td>\n",
       "      <td>https://www.fishbase.se/photos/thumbnailssumma...</td>\n",
       "    </tr>\n",
       "    <tr>\n",
       "      <th>1</th>\n",
       "      <td>6652</td>\n",
       "      <td>Ovalentaria/misc</td>\n",
       "      <td>Pomacentridae</td>\n",
       "      <td>Abudefduf abdominalis</td>\n",
       "      <td>native</td>\n",
       "      <td>Green damselfish</td>\n",
       "      <td>Mamamo</td>\n",
       "      <td>https://www.fishbase.se/Country/CountrySpecies...</td>\n",
       "      <td>10</td>\n",
       "      <td>https://www.fishbase.se/photos/thumbnailssumma...</td>\n",
       "    </tr>\n",
       "    <tr>\n",
       "      <th>2</th>\n",
       "      <td>5689</td>\n",
       "      <td>Ovalentaria/misc</td>\n",
       "      <td>Pomacentridae</td>\n",
       "      <td>Abudefduf sordidus</td>\n",
       "      <td>native</td>\n",
       "      <td>Blackspot sergeant</td>\n",
       "      <td>Ao'aonui</td>\n",
       "      <td>https://www.fishbase.se/Country/CountrySpecies...</td>\n",
       "      <td>69</td>\n",
       "      <td>https://www.fishbase.se/photos/thumbnailssumma...</td>\n",
       "    </tr>\n",
       "    <tr>\n",
       "      <th>3</th>\n",
       "      <td>6630</td>\n",
       "      <td>Ovalentaria/misc</td>\n",
       "      <td>Pomacentridae</td>\n",
       "      <td>Abudefduf vaigiensis</td>\n",
       "      <td>native</td>\n",
       "      <td>Indo-Pacific sergeant</td>\n",
       "      <td>Indo-Pacific sergeant</td>\n",
       "      <td>https://www.fishbase.se/Country/CountrySpecies...</td>\n",
       "      <td>145</td>\n",
       "      <td>https://www.fishbase.se/photos/thumbnailssumma...</td>\n",
       "    </tr>\n",
       "    <tr>\n",
       "      <th>4</th>\n",
       "      <td>89</td>\n",
       "      <td>Scombriformes</td>\n",
       "      <td>Scombridae</td>\n",
       "      <td>Acanthocybium solandri</td>\n",
       "      <td>native</td>\n",
       "      <td>Wahoo</td>\n",
       "      <td>Ono</td>\n",
       "      <td>https://www.fishbase.se/Country/CountrySpecies...</td>\n",
       "      <td>111</td>\n",
       "      <td>https://www.fishbase.se/photos/thumbnailssumma...</td>\n",
       "    </tr>\n",
       "  </tbody>\n",
       "</table>\n",
       "</div>"
      ],
      "text/plain": [
       "   fishbase_id             Order         Family                 Species  \\\n",
       "0          972      Beloniformes      Belonidae          Ablennes hians   \n",
       "1         6652  Ovalentaria/misc  Pomacentridae   Abudefduf abdominalis   \n",
       "2         5689  Ovalentaria/misc  Pomacentridae      Abudefduf sordidus   \n",
       "3         6630  Ovalentaria/misc  Pomacentridae    Abudefduf vaigiensis   \n",
       "4           89     Scombriformes     Scombridae  Acanthocybium solandri   \n",
       "\n",
       "  Occurrence          FishBase name                   Name  \\\n",
       "0     native        Flat needlefish               'Aha'aha   \n",
       "1     native       Green damselfish                 Mamamo   \n",
       "2     native     Blackspot sergeant               Ao'aonui   \n",
       "3     native  Indo-Pacific sergeant  Indo-Pacific sergeant   \n",
       "4     native                  Wahoo                    Ono   \n",
       "\n",
       "                                                Link  image_counts  \\\n",
       "0  https://www.fishbase.se/Country/CountrySpecies...            30   \n",
       "1  https://www.fishbase.se/Country/CountrySpecies...            10   \n",
       "2  https://www.fishbase.se/Country/CountrySpecies...            69   \n",
       "3  https://www.fishbase.se/Country/CountrySpecies...           145   \n",
       "4  https://www.fishbase.se/Country/CountrySpecies...           111   \n",
       "\n",
       "                                     image_page_link  \n",
       "0  https://www.fishbase.se/photos/thumbnailssumma...  \n",
       "1  https://www.fishbase.se/photos/thumbnailssumma...  \n",
       "2  https://www.fishbase.se/photos/thumbnailssumma...  \n",
       "3  https://www.fishbase.se/photos/thumbnailssumma...  \n",
       "4  https://www.fishbase.se/photos/thumbnailssumma...  "
      ]
     },
     "execution_count": 116,
     "metadata": {},
     "output_type": "execute_result"
    }
   ],
   "source": [
    "fish_df.head()"
   ]
  },
  {
   "cell_type": "markdown",
   "metadata": {},
   "source": [
    "# Download Images from Fishbase"
   ]
  },
  {
   "cell_type": "code",
   "execution_count": 120,
   "metadata": {},
   "outputs": [],
   "source": [
    "if not os.path.exists(\"fishbase_images/\"):\n",
    "    os.makedirs(\"fishbase_images/\")"
   ]
  },
  {
   "cell_type": "code",
   "execution_count": 146,
   "metadata": {},
   "outputs": [
    {
     "name": "stdout",
     "output_type": "stream",
     "text": [
      "['../images/species/abhia_u1.jpg', '../images/species/abhia_u2.jpg', '../images/species/abhia_m0.jpg', '../images/species/abhia_u0.jpg', '../images/species/abhia_j0.gif', '../images/species/abhia_j1.gif', '../images/species/abhia_u0.gif', '../tools/uploadphoto/uploads/img_3123.jpg', '../tools/uploadphoto/uploads/img_3134.jpg', '../tools/uploadphoto/uploads/1365915516_182.178.95.68.jpg', '../tools/uploadphoto/uploads/1564070934_188.114.103.151.jpg', '../images/species/abhia_j0.gif', '../images/species/abhia_j1.gif']\n"
     ]
    }
   ],
   "source": [
    "for ind, row in fish_df.iterrows():\n",
    "    id_path = \"fishbase_images/\" + str(row[\"fishbase_id\"])\n",
    "    if os.path.exists(id_path):\n",
    "        continue\n",
    "        \n",
    "    os.makedirs(id_path)\n",
    "        \n",
    "    html = requests.get(row[\"image_page_link\"])\n",
    "    p_soup = bs(html.content, \"html.parser\")\n",
    "    \n",
    "    img_tags = p_soup.find_all('img')\n",
    "    urls = []\n",
    "    for url in [img['src'] for img in img_tags]:\n",
    "        if (len(url.split('/'))) < 2 or url.split('/')[2] == \"thumbnails\" or url.split('.')[-1] not in set([\"jpg\", \"gif\", \"png\", \"jpeg\"]) :\n",
    "            continue\n",
    "        urls.append(url)\n",
    "        \n",
    "    base_url = \"https://www.fishbase.se/\"\n",
    "    \n",
    "    # Download Images\n",
    "    for url in urls:\n",
    "        full_url = base_url + url[3:]\n",
    "        save_path = id_path+ \"/\" + url.split('/')[-1]\n",
    "        urllib.request.urlretrieve(full_url, save_path)"
   ]
  },
  {
   "cell_type": "markdown",
   "metadata": {},
   "source": [
    "- Take curriculum learning like approach for google images? (train initial model without and then get confidences for google images)\n",
    "- mask images with blue filters in augmentation"
   ]
  },
  {
   "cell_type": "code",
   "execution_count": null,
   "metadata": {},
   "outputs": [],
   "source": []
  }
 ],
 "metadata": {
  "kernelspec": {
   "display_name": "Python 3",
   "language": "python",
   "name": "python3"
  },
  "language_info": {
   "codemirror_mode": {
    "name": "ipython",
    "version": 3
   },
   "file_extension": ".py",
   "mimetype": "text/x-python",
   "name": "python",
   "nbconvert_exporter": "python",
   "pygments_lexer": "ipython3",
   "version": "3.8.5"
  }
 },
 "nbformat": 4,
 "nbformat_minor": 4
}
